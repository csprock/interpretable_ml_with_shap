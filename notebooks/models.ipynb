{
 "cells": [
  {
   "cell_type": "code",
   "execution_count": null,
   "metadata": {},
   "outputs": [],
   "source": [
    "%cd /app\n",
    "\n",
    "\n",
    "import pandas as pd\n",
    "import matplotlib.pyplot as plt \n",
    "\n",
    "data_df = pd.read_csv(\"/app/data/final.csv\", index_col=[0], parse_dates=True)\n",
    "data_df = data_df.dropna(subset=['wti_cush_spot'])"
   ]
  },
  {
   "cell_type": "code",
   "execution_count": null,
   "metadata": {},
   "outputs": [],
   "source": [
    "from sklearn.model_selection import TimeSeriesSplit, RandomizedSearchCV, GridSearchCV\n",
    "from sklearn.metrics import mean_absolute_error\n",
    "from lightgbm import LGBMRegressor\n",
    "from sklearn.ensemble import RandomForestRegressor, HistGradientBoostingRegressor\n",
    "from sklearn.model_selection import train_test_split\n",
    "from sklearn.model_selection import RandomizedSearchCV, GridSearchCV\n",
    "\n",
    "SEED = 1234"
   ]
  },
  {
   "cell_type": "code",
   "execution_count": null,
   "metadata": {},
   "outputs": [],
   "source": [
    "y_var = \"wti_cush_spot\"\n",
    "x_var = [c for c in data_df.columns if c != y_var]"
   ]
  },
  {
   "cell_type": "code",
   "execution_count": null,
   "metadata": {},
   "outputs": [],
   "source": [
    "validation_df = data_df.iloc[-52:]\n",
    "y_valid, X_valid = validation_df[y_var], validation_df[x_var]\n",
    "train_df = data_df.iloc[:-52]\n",
    "y_train, X_train = data_df[y_var], data_df[x_var]"
   ]
  },
  {
   "cell_type": "code",
   "execution_count": null,
   "metadata": {},
   "outputs": [],
   "source": [
    "tscv = TimeSeriesSplit()\n",
    "\n",
    "models = {\n",
    "    'random_forest': RandomForestRegressor(\n",
    "        min_samples_leaf=5,\n",
    "        random_state=SEED\n",
    "    )\n",
    "}\n",
    "\n",
    "param_grid = {\n",
    "    \"random_forest\": {\n",
    "        \"n_estimators\": [10,20,30,40,50]\n",
    "    }\n",
    "}\n",
    "\n",
    "results = []\n",
    "for name, model in models.items():\n",
    "\n",
    "    grid_search = GridSearchCV(\n",
    "        estimator = model,\n",
    "        param_grid = param_grid[name],\n",
    "        return_train_score=True,\n",
    "        cv = tscv\n",
    "    ).fit(X_train, y_train)\n",
    "    result = {\"model\": name, \"cv_results\": pd.DataFrame(grid_search.cv_results_)}\n",
    "    results.append(result)"
   ]
  }
 ],
 "metadata": {
  "language_info": {
   "name": "python",
   "pygments_lexer": "ipython3"
  }
 },
 "nbformat": 4,
 "nbformat_minor": 2
}
