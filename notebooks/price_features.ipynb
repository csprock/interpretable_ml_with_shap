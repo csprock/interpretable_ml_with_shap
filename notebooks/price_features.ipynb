{
 "cells": [
  {
   "cell_type": "code",
   "execution_count": null,
   "metadata": {},
   "outputs": [],
   "source": [
    "%cd /app\n",
    "\n",
    "import os\n",
    "import pandas as pd\n",
    "import datetime\n",
    "import numpy as np\n",
    "from pandas import IndexSlice as idx"
   ]
  },
  {
   "cell_type": "code",
   "execution_count": null,
   "metadata": {},
   "outputs": [],
   "source": [
    "df_rbob = pd.read_excel(\"data/rbob_price.xls\", sheet_name = \"Data 1\", index_col=\"date\")\n",
    "df_ho = pd.read_excel(\"data/heating_oil_price.xls\", sheet_name=\"Data 1\", index_col=\"date\")\n",
    "df_wti = pd.read_excel(\"data/wti_cushing_price.xls\", sheet_name=\"Data 1\", index_col=\"date\")\n",
    "\n",
    "price_df = pd.concat([df_rbob, df_wti, df_ho], axis=1, join=\"inner\")"
   ]
  },
  {
   "cell_type": "code",
   "execution_count": null,
   "metadata": {},
   "outputs": [],
   "source": [
    "price_df['321_spread'] = (2/3)*price_df['rbob_m1']*42 + (1/3)*price_df['ho_m1']*42 - price_df['wti_cush_spot']"
   ]
  },
  {
   "cell_type": "code",
   "execution_count": null,
   "metadata": {},
   "outputs": [],
   "source": [
    "price_df.columns"
   ]
  },
  {
   "cell_type": "code",
   "execution_count": null,
   "metadata": {},
   "outputs": [],
   "source": [
    "def compute_sd_distance(s: pd.Series, window=90):\n",
    "    price_distance = s - s.rolling(window).mean()\n",
    "    sd_distance = price_distance / s.rolling(3*window).std()\n",
    "    return sd_distance"
   ]
  },
  {
   "cell_type": "code",
   "execution_count": null,
   "metadata": {},
   "outputs": [],
   "source": [
    "for x in ['321_spread', 'rbob_m1', 'wti_cush_spot', 'ho_m1']:\n",
    "    price_df[x + '_sd_distance'] = compute_sd_distance(price_df[x])"
   ]
  },
  {
   "cell_type": "code",
   "execution_count": null,
   "metadata": {},
   "outputs": [],
   "source": [
    "import matplotlib.pyplot as plt\n",
    "\n",
    "plt.figure(figsize=(14, 7))\n",
    "\n",
    "plt.plot(price_df.index, price_df['rbob_m1_sd_distance'], label='RBOB M1 SD Distance')\n",
    "plt.plot(price_df.index, price_df['wti_cush_spot_sd_distance'], label='WTI Cush Spot SD Distance')\n",
    "plt.plot(price_df.index, price_df['ho_m1_sd_distance'], label='HO M1 SD Distance')\n",
    "\n",
    "plt.xlabel('Date')\n",
    "plt.ylabel('SD Distance')\n",
    "plt.title('SD Distances for RBOB M1, WTI Cush Spot, and HO M1')\n",
    "plt.legend()\n",
    "plt.grid(True)\n",
    "plt.show()"
   ]
  },
  {
   "cell_type": "code",
   "execution_count": null,
   "metadata": {},
   "outputs": [],
   "source": [
    "price_df.to_csv(\"data/price_data.csv\")"
   ]
  }
 ],
 "metadata": {
  "language_info": {
   "name": "python",
   "pygments_lexer": "ipython3"
  }
 },
 "nbformat": 4,
 "nbformat_minor": 2
}
