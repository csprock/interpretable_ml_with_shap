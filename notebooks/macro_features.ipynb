{
 "cells": [
  {
   "cell_type": "code",
   "execution_count": null,
   "metadata": {},
   "outputs": [],
   "source": [
    "%cd /app\n",
    "\n",
    "import os\n",
    "import pandas as pd\n",
    "import datetime\n",
    "import numpy as np\n",
    "from pandas import IndexSlice as idx"
   ]
  },
  {
   "cell_type": "code",
   "execution_count": null,
   "metadata": {},
   "outputs": [],
   "source": [
    "spx_df = pd.read_excel(\"data/s_and_p_500.xls\", index_col=0)\n",
    "dxy_df = pd.read_csv(\"data/dollar_index.csv\", index_col=0, parse_dates=True)\n",
    "dxy_df.columns = ['dollar_index']\n",
    "two_yr_trea_df = pd.read_csv(\"data/two_year_treas_yield.csv\", index_col=0, parse_dates=True)\n",
    "two_yr_trea_df['treas_2yr'] = two_yr_trea_df['treas_2yr'].replace(\".\", np.nan).astype(float)\n",
    "macro_df = spx_df.join(two_yr_trea_df).join(dxy_df)\n",
    "\n",
    "macro_df.to_csv(\"data/macro.csv\")\n",
    "\n"
   ]
  }
 ],
 "metadata": {
  "language_info": {
   "name": "python",
   "pygments_lexer": "ipython3"
  }
 },
 "nbformat": 4,
 "nbformat_minor": 2
}
