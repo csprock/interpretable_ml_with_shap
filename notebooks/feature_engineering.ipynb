{
 "cells": [
  {
   "cell_type": "code",
   "execution_count": null,
   "metadata": {},
   "outputs": [],
   "source": [
    "%cd /app\n",
    "\n",
    "import os\n",
    "import pandas as pd\n",
    "import datetime\n",
    "import numpy as np\n",
    "from pandas import IndexSlice as idx\n",
    "import matplotlib.pyplot as plt"
   ]
  },
  {
   "cell_type": "code",
   "execution_count": null,
   "metadata": {},
   "outputs": [],
   "source": [
    "price_df = pd.read_csv(\"data/price_data.csv\", parse_dates=True, index_col=0)\n",
    "balance_df = pd.read_csv(\"data/balance_data.csv\", parse_dates=True, index_col=0)\n",
    "macro_df = pd.read_csv(\"data/macro.csv\", parse_dates=True, index_col=0)\n",
    "cot_df = pd.read_csv(\"data/mm_positioning.csv\", parse_dates=True, index_col=[0,1])\n",
    "\n",
    "combined_raw_df = pd.concat(\n",
    "    [\n",
    "        price_df,\n",
    "        balance_df,\n",
    "        macro_df,\n",
    "        cot_df.loc[idx[:, 'wti'], :].droplevel(1, axis=0)\n",
    "    ],\n",
    "    axis=1,\n",
    "    join=\"outer\",\n",
    "\n",
    ")\n",
    "\n",
    "cot_df_columns = cot_df.columns.to_list()\n",
    "balance_df_columns = balance_df.columns.to_list()\n",
    "\n",
    "# interpolations\n",
    "combined_raw_df.loc[:, cot_df_columns] = combined_raw_df.loc[:, cot_df_columns].interpolate(method='time')\n",
    "combined_raw_df.loc[:, balance_df_columns] = combined_raw_df.loc[:, balance_df_columns].interpolate(method='time')\n",
    "\n",
    "# round to the nearest integer all columns that have the word 'trader' in them\n",
    "trader_columns = [col for col in combined_raw_df.columns if 'trader' in col]\n",
    "combined_raw_df.loc[:, trader_columns] = combined_raw_df.loc[:, trader_columns].round(0)\n",
    "\n",
    "combined_df = combined_raw_df[combined_raw_df.index.dayofweek == 4] # Friday values"
   ]
  },
  {
   "cell_type": "code",
   "execution_count": null,
   "metadata": {},
   "outputs": [],
   "source": [
    "combined_df = combined_df.loc[(combined_df.index <= combined_df['wti_cush_spot'].last_valid_index()) & (combined_df.index >= combined_df['treas_2yr'].first_valid_index())]"
   ]
  },
  {
   "cell_type": "code",
   "execution_count": null,
   "metadata": {},
   "outputs": [],
   "source": [
    "def threshold_labeler(arr: np.array, thresh) -> np.array:\n",
    "    arr2 = np.where(np.where(arr < thresh, -1, arr) > thresh, 1, np.where(arr < -thresh, -1, arr))\n",
    "    arr2[~((arr2 == 1) | (arr2 == -1))] = 0\n",
    "    return arr2\n",
    "\n",
    "\n",
    "def signed_accumulation(arr):\n",
    "\n",
    "    p_arr = np.zeros(arr.shape)\n",
    "\n",
    "    _type = 0\n",
    "    _counter = 0\n",
    "    if arr[0] == 1:\n",
    "        _type = 1\n",
    "        _counter = 1\n",
    "    if arr[0] == -1:\n",
    "        _type = -1\n",
    "        _counter = -1\n",
    "    \n",
    "    p_arr[0] = _counter\n",
    "    \n",
    "    for i, x in enumerate(arr[1:]):\n",
    "        if x == _type:\n",
    "            if _type == 1:\n",
    "                _counter += 1\n",
    "            if _type == -1:\n",
    "                _counter -= 1\n",
    "        else:\n",
    "            _type = x\n",
    "            _counter = x\n",
    "        p_arr[i] = _counter\n",
    "\n",
    "    return p_arr\n",
    "\n",
    "threshold_labeler(np.arange(-4,5,1), 1)"
   ]
  },
  {
   "cell_type": "code",
   "execution_count": null,
   "metadata": {},
   "outputs": [],
   "source": [
    "df = combined_df[['wti_cush_spot_sd_distance']].copy()\n",
    "for x in range(1,5):\n",
    "    df[f'wti_cush_spot_sd_distance_{x}'] = 0\n",
    "    df[f'wti_cush_spot_sd_distance_{x}'] = threshold_labeler(df['wti_cush_spot_sd_distance'].values, x)\n",
    "    df[f'wti_cush_spot_sd_distance_{x}_accumulated'] = signed_accumulation(df[f'wti_cush_spot_sd_distance_{x}'].values)\n",
    "\n",
    "combined_df = combined_df.join(df.drop('wti_cush_spot_sd_distance', axis=1, inplace=False))"
   ]
  },
  {
   "cell_type": "code",
   "execution_count": null,
   "metadata": {},
   "outputs": [],
   "source": [
    "# lags and target variable engineering\n",
    "\n",
    "price_extension_variables = [c for c in combined_df.columns if 'sd_distance' in c]\n",
    "cot_extension_variables = [c for c in combined_df.columns if 'extension' in c]\n",
    "\n",
    "balance_variables = ['net_exports', 'total_production', 'cushing_stocks', 'total_us_inc_spr', 'spr']\n",
    "balance_deviation_variables = ['total_us_ex_spr_5yr_deviation', 'cushing_stocks_5yr_deviation']\n",
    "balance_yoy_variables = [c + \"_yoy\" for c in balance_variables]\n",
    "\n",
    "macro_variables = macro_df.columns.to_list()\n",
    "price_variables = ['rbob_m1', 'wti_cush_spot', 'ho_m1', '321_spread']\n",
    "\n",
    "combined_df = combined_df.loc[:, price_extension_variables + cot_extension_variables + balance_variables + balance_deviation_variables + balance_yoy_variables + macro_variables + price_variables].copy()\n",
    "\n",
    "\n",
    "\n",
    "target_variable = ['wti_cush_spot']\n",
    "dependent_variables = [c for c in combined_df.columns if c not in target_variable]\n",
    "\n",
    "# differenced variables\n",
    "combined_df.loc[:, price_variables] = combined_df.loc[:, price_variables].diff(1)\n",
    "combined_df.loc[:, balance_variables] = combined_df.loc[:, balance_variables].diff(1)\n",
    "combined_df.loc[:, macro_variables] = combined_df.loc[:, macro_variables].diff(1)\n",
    "\n",
    "# lags\n",
    "combined_df.loc[:, dependent_variables] = combined_df.loc[:, dependent_variables].shift(1)\n",
    "\n",
    "\n",
    "# target variable\n",
    "combined_df[target_variable] = combined_df[target_variable].apply(np.sign)"
   ]
  },
  {
   "cell_type": "code",
   "execution_count": null,
   "metadata": {},
   "outputs": [],
   "source": []
  },
  {
   "cell_type": "code",
   "execution_count": null,
   "metadata": {},
   "outputs": [],
   "source": [
    "combined_df.iloc[2:].dropna(subset=[\"wti_cush_spot\"]).to_csv(\"data/final.csv\", index=True)"
   ]
  },
  {
   "cell_type": "code",
   "execution_count": null,
   "metadata": {},
   "outputs": [],
   "source": [
    "#combined_df.to_csv(\"data/final.csv\", index=True)"
   ]
  },
  {
   "cell_type": "code",
   "execution_count": null,
   "metadata": {},
   "outputs": [],
   "source": [
    "# combined_df = pd.merge(\n",
    "#     mm_df, balance_df, left_index=True, right_index=True, how = \"outer\"\n",
    "# )\n",
    "# combined_df = combined_df.loc[combined_df.index >= mm_df.index.min()]\n",
    "# combined_df[['crude_exports', 'crude_imports', 'total_production', 'cushing_stocks', 'total_us_inc_spr', 'spr']] = combined_df[['crude_exports', 'crude_imports', 'total_production', 'cushing_stocks', 'total_us_inc_spr', 'spr']].interpolate(method=\"linear\")\n",
    "# combined_df = combined_df.loc[combined_df.index.isin(mm_df.index), ['mm_long', 'mm_short', 'mm_net', 'crude_exports', 'crude_imports', 'total_production', 'cushing_stocks',  'total_us_inc_spr', 'spr']]\n",
    "# combined_df = combined_df.join(price_df).join(macro_df)\n",
    "# combined_df = combined_df.loc[(combined_df.index <= combined_df['wti_cush_spot'].last_valid_index()) & (combined_df.index >= combined_df['treas_2yr'].first_valid_index())]\n",
    "# combined_df['treas_2yr'] = combined_df['treas_2yr'].astype(float)\n",
    "\n",
    "# levels = ['cushing_stocks', 'total_us_inc_spr', 'wti_cush_spot', '321_spread']\n",
    "# levels_df = combined_df[levels].copy()\n",
    "\n",
    "# final_df = combined_df.diff().join(levels_df, rsuffix=\"_level\")\n",
    "# final_df['time_index'] = np.arange(0, len(final_df))\n",
    "\n",
    "# final_df.iloc[1:].to_csv(\"data/final.csv\")"
   ]
  }
 ],
 "metadata": {
  "language_info": {
   "name": "python",
   "pygments_lexer": "ipython3"
  }
 },
 "nbformat": 4,
 "nbformat_minor": 2
}
