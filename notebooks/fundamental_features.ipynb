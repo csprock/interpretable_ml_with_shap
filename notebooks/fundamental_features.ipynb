{
 "cells": [
  {
   "cell_type": "code",
   "execution_count": null,
   "metadata": {},
   "outputs": [],
   "source": [
    "%cd /app\n",
    "\n",
    "import os\n",
    "import pandas as pd\n",
    "import datetime\n",
    "import numpy as np\n",
    "from pandas import IndexSlice as idx"
   ]
  },
  {
   "cell_type": "code",
   "execution_count": null,
   "metadata": {},
   "outputs": [],
   "source": [
    "exports_df = pd.read_excel(\"data/us_crude_exports.xls\", sheet_name=\"Data 1\", index_col=0)\n",
    "imports_df = pd.read_excel(\"data/us_crude_import.xls\", sheet_name=\"Data 1\", index_col=0)\n",
    "production_df = pd.read_excel(\"data/us_crude_production.xls\", sheet_name=\"Data 1\", index_col=0)\n",
    "cushing_df = pd.read_excel(\"data/weekly_cushing_stocks.xls\", sheet_name=\"Data 1\", index_col=0)\n",
    "total_stocks_df = pd.read_excel(\"data/weekly_petroleum_stocks.xls\", sheet_name=\"Data 1\", index_col=0)\n",
    "\n",
    "rename_stocks = {\n",
    "    \"WCRSTUS1\":\"total_us_inc_spr\",\n",
    "    \"WCSSTUS1\":\"spr\"\n",
    "}\n",
    "\n",
    "total_stocks_df.rename(mapper=rename_stocks, axis=1, inplace=True)\n",
    "\n",
    "balance_df = pd.concat([exports_df, imports_df, production_df, cushing_df, total_stocks_df], axis=1, join=\"inner\")\n",
    "balance_df['total_us_ex_spr'] = balance_df['total_us_inc_spr'] - balance_df['spr']\n",
    "balance_df['net_exports'] = balance_df['crude_exports'] - balance_df['crude_imports']"
   ]
  },
  {
   "cell_type": "code",
   "execution_count": null,
   "metadata": {},
   "outputs": [],
   "source": [
    "balance_4wk_df = balance_df.rolling(window=4).mean()"
   ]
  },
  {
   "cell_type": "code",
   "execution_count": null,
   "metadata": {},
   "outputs": [],
   "source": [
    "for x in ['total_us_ex_spr', 'cushing_stocks']:\n",
    "    balance_4wk_df[f\"{x}_5yr_deviation\"] = balance_4wk_df[x] - balance_df[x].rolling(window=52*5).mean()"
   ]
  },
  {
   "cell_type": "code",
   "execution_count": null,
   "metadata": {},
   "outputs": [],
   "source": [
    "balance_yoy_df = balance_4wk_df - balance_4wk_df.shift(52)\n",
    "balance_yoy_df.columns = [f\"{x}_yoy\" for x in balance_yoy_df.columns]\n",
    "\n",
    "\n",
    "\n",
    "pd.concat([balance_4wk_df, balance_yoy_df], axis=1, join=\"inner\").to_csv(\"data/balance_data.csv\")"
   ]
  },
  {
   "cell_type": "code",
   "execution_count": null,
   "metadata": {},
   "outputs": [],
   "source": [
    "#balance_yoy_df['cushing_stocks_yoy'].plot()"
   ]
  }
 ],
 "metadata": {
  "language_info": {
   "name": "python",
   "pygments_lexer": "ipython3"
  }
 },
 "nbformat": 4,
 "nbformat_minor": 2
}
