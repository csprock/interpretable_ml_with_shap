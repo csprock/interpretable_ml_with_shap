{
 "cells": [
  {
   "cell_type": "code",
   "execution_count": null,
   "metadata": {},
   "outputs": [],
   "source": [
    "%cd /app\n",
    "\n",
    "import os\n",
    "import pandas as pd\n",
    "import datetime\n",
    "import numpy as np\n",
    "import lightgbm as lgb"
   ]
  },
  {
   "cell_type": "markdown",
   "metadata": {},
   "source": [
    "## Format CFTC Data"
   ]
  },
  {
   "cell_type": "code",
   "execution_count": null,
   "metadata": {},
   "outputs": [],
   "source": [
    "def ltrim(n):\n",
    "    if n[:2] == '00':\n",
    "        n = n[2:]\n",
    "    if n[:1] == '0':\n",
    "        n = n[1:]\n",
    "    \n",
    "    return n\n",
    "\n",
    "\n",
    "# WTI contract market code: 67651"
   ]
  },
  {
   "cell_type": "code",
   "execution_count": null,
   "metadata": {},
   "outputs": [],
   "source": [
    "selected_columns = [\n",
    "    \"Report_Date_as_MM_DD_YYYY\",\n",
    "   # \"CFTC_Contract_Market_Code\",\n",
    "    \"M_Money_Positions_Long_ALL\",\n",
    "    \"M_Money_Positions_Short_ALL\",\n",
    "    \"M_Money_Positions_Spread_ALL\"\n",
    "]\n",
    "\n",
    "dfs = []\n",
    "for i in range(15, 25):\n",
    "    print(i)\n",
    "    i = str(i)\n",
    "    df = pd.read_excel(f\"data/cftc_data/f_{i}.xls\", \n",
    "        sheet_name=\"XLS\", \n",
    "        #usecols=selected_columns,\n",
    "    )\n",
    "    dfs.append(df)\n",
    "dfs = pd.concat(dfs)\n",
    "dfs = dfs.loc[dfs['CFTC_Contract_Market_Code'].str.contains(\"67651\"), selected_columns]\n",
    "\n",
    "dfs.columns = ['date', 'mm_long', 'mm_short', 'mm_spread']\n",
    "dfs.set_index(\"date\", inplace=True)\n",
    "dfs.sort_index(inplace=True)\n",
    "dfs['mm_net'] = dfs['mm_long'] - dfs['mm_short']\n",
    "dfs['mm_long'].plot()\n",
    "mm_df = dfs"
   ]
  },
  {
   "cell_type": "code",
   "execution_count": null,
   "metadata": {},
   "outputs": [],
   "source": [
    "dfs.to_csv(\"data/wti_mm_positioning.csv\")"
   ]
  },
  {
   "cell_type": "markdown",
   "metadata": {},
   "source": [
    "## Prices and Spreads"
   ]
  },
  {
   "cell_type": "code",
   "execution_count": null,
   "metadata": {},
   "outputs": [],
   "source": [
    "df_rbob = pd.read_excel(\"data/rbob_price.xls\", sheet_name = \"Data 1\", index_col=\"date\")\n",
    "df_ho = pd.read_excel(\"data/heating_oil_price.xls\", sheet_name=\"Data 1\", index_col=\"date\")\n",
    "df_wti = pd.read_excel(\"data/wti_cushing_price.xls\", sheet_name=\"Data 1\", index_col=\"date\")"
   ]
  },
  {
   "cell_type": "code",
   "execution_count": null,
   "metadata": {},
   "outputs": [],
   "source": [
    "price_df = pd.concat([df_rbob, df_wti, df_ho], axis=1, join=\"inner\")"
   ]
  },
  {
   "cell_type": "code",
   "execution_count": null,
   "metadata": {},
   "outputs": [],
   "source": [
    "price_df['wti_cush_spot'].plot()"
   ]
  },
  {
   "cell_type": "code",
   "execution_count": null,
   "metadata": {},
   "outputs": [],
   "source": [
    "price_df['321_spread'] = (2/3)*price_df['rbob_m1']*42 + (1/3)*price_df['ho_m1']*42 - price_df['wti_cush_spot']"
   ]
  },
  {
   "cell_type": "code",
   "execution_count": null,
   "metadata": {},
   "outputs": [],
   "source": [
    "price_df.to_csv(\"data/prices.csv\")"
   ]
  },
  {
   "cell_type": "markdown",
   "metadata": {},
   "source": [
    "## Balance Data"
   ]
  },
  {
   "cell_type": "code",
   "execution_count": null,
   "metadata": {},
   "outputs": [],
   "source": [
    "exports_df = pd.read_excel(\"data/us_crude_exports.xls\", sheet_name=\"Data 1\", index_col=0)\n",
    "imports_df = pd.read_excel(\"data/us_crude_import.xls\", sheet_name=\"Data 1\", index_col=0)\n",
    "production_df = pd.read_excel(\"data/us_crude_production.xls\", sheet_name=\"Data 1\", index_col=0)\n",
    "cushing_df = pd.read_excel(\"data/weekly_cushing_stocks.xls\", sheet_name=\"Data 1\", index_col=0)\n",
    "total_stocks_df = pd.read_excel(\"data/weekly_petroleum_stocks.xls\", sheet_name=\"Data 1\", index_col=0)\n",
    "\n",
    "rename_stocks = {\n",
    "    \"WCRSTUS1\":\"total_us_inc_spr\",\n",
    "    \"WCSSTUS1\":\"spr\"\n",
    "}\n",
    "\n",
    "total_stocks_df.rename(mapper=rename_stocks, axis=1, inplace=True)"
   ]
  },
  {
   "cell_type": "code",
   "execution_count": null,
   "metadata": {},
   "outputs": [],
   "source": [
    "balance_df = pd.concat([exports_df, imports_df, production_df, cushing_df, total_stocks_df], axis=1, join=\"inner\")\n",
    "balance_df['total_us_ex_spr'] = balance_df['total_us_inc_spr'] - balance_df['spr']"
   ]
  },
  {
   "cell_type": "markdown",
   "metadata": {},
   "source": [
    "## Macro Data"
   ]
  },
  {
   "cell_type": "code",
   "execution_count": null,
   "metadata": {},
   "outputs": [],
   "source": [
    "spx_df = pd.read_excel(\"data/s_and_p_500.xls\", index_col=0)\n",
    "two_yr_trea_df = pd.read_csv(\"data/two_year_treas_yield.csv\", index_col=0, parse_dates=True)\n",
    "macro_df = spx_df.join(two_yr_trea_df)\n"
   ]
  },
  {
   "cell_type": "code",
   "execution_count": null,
   "metadata": {},
   "outputs": [],
   "source": [
    "# MM is Tuesday\n",
    "# stocks is Fridaycombined_df['treas_2yr'] = combined_df['treas_2yr'].astype(float)\n",
    "#mm_df\n",
    "#balance_df\n",
    "\n",
    "# align to Tuesday"
   ]
  },
  {
   "cell_type": "code",
   "execution_count": null,
   "metadata": {},
   "outputs": [],
   "source": [
    "combined_df = pd.merge(\n",
    "    mm_df, balance_df, left_index=True, right_index=True, how = \"outer\"\n",
    ")\n",
    "combined_df = combined_df.loc[combined_df.index >= mm_df.index.min()]\n",
    "combined_df[['crude_exports', 'crude_imports', 'total_production', 'cushing_stocks', 'total_us_inc_spr', 'spr']] = combined_df[['crude_exports', 'crude_imports', 'total_production', 'cushing_stocks', 'total_us_inc_spr', 'spr']].interpolate(method=\"linear\")\n",
    "combined_df = combined_df.loc[combined_df.index.isin(mm_df.index), ['mm_long', 'mm_short', 'mm_net', 'crude_exports', 'crude_imports', 'total_production', 'cushing_stocks',  'total_us_inc_spr', 'spr']]\n",
    "combined_df = combined_df.join(price_df).join(macro_df)\n",
    "combined_df = combined_df.loc[(combined_df.index <= combined_df['wti_cush_spot'].last_valid_index()) & (combined_df.index >= combined_df['treas_2yr'].first_valid_index())]\n",
    "combined_df['treas_2yr'] = combined_df['treas_2yr'].astype(float)"
   ]
  },
  {
   "cell_type": "code",
   "execution_count": null,
   "metadata": {},
   "outputs": [],
   "source": [
    "levels = ['cushing_stocks', 'total_us_inc_spr', 'wti_cush_spot', '321_spread']\n",
    "levels_df = combined_df[levels].copy()"
   ]
  },
  {
   "cell_type": "code",
   "execution_count": null,
   "metadata": {},
   "outputs": [],
   "source": [
    "final_df = combined_df.diff().join(levels_df, rsuffix=\"_level\")\n",
    "final_df['time_index'] = np.arange(0, len(final_df))"
   ]
  },
  {
   "cell_type": "code",
   "execution_count": null,
   "metadata": {},
   "outputs": [],
   "source": [
    "final_df.iloc[1:].to_csv(\"data/final.csv\")"
   ]
  }
 ],
 "metadata": {
  "language_info": {
   "name": "python",
   "pygments_lexer": "ipython3"
  }
 },
 "nbformat": 4,
 "nbformat_minor": 2
}
