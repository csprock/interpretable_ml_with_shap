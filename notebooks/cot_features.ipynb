{
 "cells": [
  {
   "cell_type": "code",
   "execution_count": null,
   "metadata": {},
   "outputs": [],
   "source": [
    "%cd /app\n",
    "\n",
    "import os\n",
    "import pandas as pd\n",
    "import datetime\n",
    "import numpy as np\n",
    "from pandas import IndexSlice as idx"
   ]
  },
  {
   "cell_type": "code",
   "execution_count": null,
   "metadata": {},
   "outputs": [],
   "source": [
    "ice_cot_df = list()\n",
    "for i in range(2011, 2026):\n",
    "    print(i)\n",
    "    df = pd.read_csv(f\"/app/data/ice_cot_data/COTHist{i}.csv\")\n",
    "    ice_cot_df.append(df)\n",
    "ice_cot_df = pd.concat(ice_cot_df)"
   ]
  },
  {
   "cell_type": "code",
   "execution_count": null,
   "metadata": {},
   "outputs": [],
   "source": [
    "def ltrim(n):\n",
    "    if n[:2] == '00':\n",
    "        n = n[2:]\n",
    "    if n[:1] == '0':\n",
    "        n = n[1:]\n",
    "    \n",
    "    return n\n",
    "\n",
    "dfs = []\n",
    "for i in range(15, 25):\n",
    "    print(i)\n",
    "    i = str(i)\n",
    "    df = pd.read_excel(f\"data/cftc_data/f_{i}.xls\", \n",
    "        sheet_name=\"XLS\", \n",
    "        #usecols=selected_columns,\n",
    "    )\n",
    "    dfs.append(df)\n",
    "cftc_cot_df = pd.concat(dfs)"
   ]
  },
  {
   "cell_type": "code",
   "execution_count": null,
   "metadata": {},
   "outputs": [],
   "source": [
    "filters = (ice_cot_df['FutOnly_or_Combined'] == \"FutOnly\") & (ice_cot_df['CFTC_Commodity_Code'].isin(['G', 'B']))\n",
    "selected_columns = ['Market_and_Exchange_Names', 'As_of_Date_Form_MM/DD/YYYY', 'CFTC_Commodity_Code',\n",
    "                        \"M_Money_Positions_Long_All\",\"M_Money_Positions_Short_All\",\"M_Money_Positions_Spread_All\",\n",
    "                        'Traders_M_Money_Short_All', 'Traders_M_Money_Long_All', 'Traders_M_Money_Spread_All',\n",
    "                        ]\n",
    "\n",
    "ice_cot_sub_df = ice_cot_df[filters][selected_columns].copy()"
   ]
  },
  {
   "cell_type": "code",
   "execution_count": null,
   "metadata": {},
   "outputs": [],
   "source": [
    "## CFTC codes\n",
    "# WTI: 067411\n",
    "# RBOB: 111659\n",
    "# Gasoil: \n",
    "# Heating Oil: 022651\n",
    "# Brent (financial NYMEX): 06765J\n",
    "\n",
    "filters = (cftc_cot_df['FutOnly_or_Combined'] == \"FutOnly\") & (cftc_cot_df['CFTC_Contract_Market_Code'].isin(['067411', '111659', '022651', '06765J']))\n",
    "selected_columns = ['Market_and_Exchange_Names', 'Report_Date_as_MM_DD_YYYY', 'CFTC_Contract_Market_Code',\n",
    "                        \"M_Money_Positions_Long_ALL\",\"M_Money_Positions_Short_ALL\",\"M_Money_Positions_Spread_ALL\",\n",
    "                        'Traders_M_Money_Short_All', 'Traders_M_Money_Long_All', 'Traders_M_Money_Spread_All',\n",
    "                        ]\n",
    "cftc_cot_sub_df = cftc_cot_df[filters][selected_columns].copy()"
   ]
  },
  {
   "cell_type": "code",
   "execution_count": null,
   "metadata": {},
   "outputs": [],
   "source": [
    "ice_cot_sub_df.rename({\"As_of_Date_Form_MM/DD/YYYY\": \"Report_Date_as_MM_DD_YYYY\", \"CFTC_Commodity_Code\":\"CFTC_Contract_Market_Code\"}, axis=1, inplace=True)\n",
    "for df in [ice_cot_sub_df, cftc_cot_sub_df]:\n",
    "    df['Report_Date_as_MM_DD_YYYY'] = pd.to_datetime(df['Report_Date_as_MM_DD_YYYY'])\n",
    "    df['Report_Date_as_MM_DD_YYYY'] = df['Report_Date_as_MM_DD_YYYY'].dt.strftime('%Y-%m-%d')\n",
    "    df.columns = df.columns.str.lower()\n",
    "\n",
    "rename = {\n",
    "    'B': 'brent', \n",
    "    'G': 'gasoil', \n",
    "    '022651': 'heating_oil',\n",
    "    '067411': 'wti',\n",
    "    '111659': 'rbob'\n",
    "}\n"
   ]
  },
  {
   "cell_type": "code",
   "execution_count": null,
   "metadata": {},
   "outputs": [],
   "source": [
    "combined_cot_df = pd.concat([ice_cot_sub_df, cftc_cot_sub_df])\n",
    "combined_cot_df['cftc_contract_market_code'] = combined_cot_df['cftc_contract_market_code'].str.strip()\n",
    "combined_cot_df['cftc_contract_market_code'] = combined_cot_df['cftc_contract_market_code'].map(rename)\n",
    "combined_cot_df.drop(columns=['market_and_exchange_names'], inplace=True)\n",
    "combined_cot_df['report_date_as_mm_dd_yyyy'] = pd.to_datetime(combined_cot_df['report_date_as_mm_dd_yyyy']).dt.date\n",
    "combined_cot_df.rename({'report_date_as_mm_dd_yyyy': 'report_date', 'cftc_contract_market_code': 'code'}, axis=1, inplace=True)\n",
    "## create multindex with reporte_date and code\n",
    "#combined_cot_df.set_index(['code', 'report_date'], inplace=True)\n",
    "#combined_cot_df.to_csv(\"data/mm_positioning.csv\", index=True)"
   ]
  },
  {
   "cell_type": "code",
   "execution_count": null,
   "metadata": {},
   "outputs": [],
   "source": [
    "# filter combined_cot_df to be only observations greater than the first of January 2011 but without using index slicing and IndexSlice or resetting the index\n",
    "combined_cot_df = combined_cot_df[combined_cot_df['report_date'] >= datetime.date(2011, 1, 1)].copy()"
   ]
  },
  {
   "cell_type": "code",
   "execution_count": null,
   "metadata": {},
   "outputs": [],
   "source": [
    "from sklearn.preprocessing import StandardScaler\n",
    "\n",
    "# Select numeric columns to standardize\n",
    "numeric_columns = ['m_money_positions_long_all', 'm_money_positions_short_all', \n",
    "                  'm_money_positions_spread_all', 'traders_m_money_short_all',\n",
    "                  'traders_m_money_long_all', 'traders_m_money_spread_all']\n",
    "\n",
    "# Initialize list to store scaled dataframes\n",
    "scaled_dfs = []\n",
    "\n",
    "# Split by code and scale each group\n",
    "for name, group in combined_cot_df.groupby('code'):\n",
    "    # Initialize scaler\n",
    "    scaler = StandardScaler()\n",
    "    \n",
    "    # Scale numeric columns\n",
    "    scaled_data = scaler.fit_transform(group[numeric_columns])\n",
    "    \n",
    "    # Create DataFrame with scaled data\n",
    "    scaled_df = pd.DataFrame(scaled_data, columns=numeric_columns, index=group.index)\n",
    "    \n",
    "    # Add back code and report_date\n",
    "    scaled_df['code'] = name\n",
    "    scaled_df['report_date'] = group['report_date']\n",
    "    \n",
    "    scaled_dfs.append(scaled_df)\n",
    "\n",
    "# Combine all scaled dataframes\n",
    "scaled_combined_cot_df = pd.concat(scaled_dfs)\n",
    "\n",
    "\n",
    "# merge scaled_combined_cot_df with combined_cot_df using 'code' and 'report_date' as keys\n",
    "combined_cot_df = combined_cot_df.merge(scaled_combined_cot_df, on=['code', 'report_date'], suffixes=('', '_scaled'))"
   ]
  },
  {
   "cell_type": "code",
   "execution_count": null,
   "metadata": {},
   "outputs": [],
   "source": [
    "def special_multiplication(arr1, arr2):\n",
    "    result = np.zeros_like(arr1)\n",
    "    for i in range(len(arr1)):\n",
    "        if arr1[i] < 0 and arr2[i] < 0:\n",
    "            result[i] = - arr1[i] * arr2[i]\n",
    "        elif arr1[i] > 0 and arr2[i] > 0:\n",
    "            result[i] = arr1[i] * arr2[i]\n",
    "        else:\n",
    "            result[i] = 0\n",
    "    return result\n",
    "\n",
    "# Example usage\n",
    "arr1 = np.array([1, -2, 3, -4, 5])\n",
    "arr2 = np.array([-1, -2, 3, 4, -5])\n",
    "print(special_multiplication(arr1, arr2))"
   ]
  },
  {
   "cell_type": "code",
   "execution_count": null,
   "metadata": {},
   "outputs": [],
   "source": [
    "for x in ['short', 'long', 'spread']:\n",
    "    # multiple by the scaled number of positions by the scaled number of traders\n",
    "    #combined_cot_df[f'm_money_{x}_extension'] = special_multiplication(combined_cot_df[f'm_money_positions_{x}_all'].values, combined_cot_df[f'traders_m_money_{x}_all'].values)\n",
    "    combined_cot_df[f'm_money_{x}_extension'] = combined_cot_df[f'm_money_positions_{x}_all_scaled'] + combined_cot_df[f'traders_m_money_{x}_all_scaled']"
   ]
  },
  {
   "cell_type": "code",
   "execution_count": null,
   "metadata": {},
   "outputs": [],
   "source": [
    "combined_cot_df.to_csv(\"data/mm_positioning.csv\", index=False)"
   ]
  }
 ],
 "metadata": {
  "language_info": {
   "name": "python",
   "pygments_lexer": "ipython3"
  }
 },
 "nbformat": 4,
 "nbformat_minor": 2
}
